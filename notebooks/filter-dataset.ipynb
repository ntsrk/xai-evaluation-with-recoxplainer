{
 "cells": [
  {
   "cell_type": "code",
   "execution_count": 1,
   "metadata": {},
   "outputs": [],
   "source": [
    "from recoxplainer.data_reader.data_reader import DataReader\n",
    "from recoxplainer.config import cfg"
   ]
  },
  {
   "cell_type": "code",
   "execution_count": 2,
   "metadata": {},
   "outputs": [
    {
     "data": {
      "text/plain": [
       "(2756101, 5)"
      ]
     },
     "execution_count": 2,
     "metadata": {},
     "output_type": "execute_result"
    }
   ],
   "source": [
    "# ** unpacks the dictionary (config.yml)\n",
    "data = DataReader(**cfg.retailrocket.events)\n",
    "\n",
    "data.dataset = data.dataset.rename(columns={'userId': 'visitorid', 'itemId': 'itemid'})\n",
    "data = data.dataset\n",
    "\n",
    "data.shape"
   ]
  },
  {
   "cell_type": "markdown",
   "metadata": {},
   "source": [
    "### IDs der Top N User bzw. Items heraussuchen die die meisten Interaktionen haben"
   ]
  },
  {
   "cell_type": "code",
   "execution_count": 3,
   "metadata": {},
   "outputs": [],
   "source": [
    "def get_top_n_items(dataframe, top_n):\n",
    "    result_top_items = (\n",
    "        dataframe['itemid']\n",
    "        .value_counts()\n",
    "        .head(top_n)\n",
    "        .index\n",
    "    )\n",
    "    return result_top_items\n",
    "\n",
    "def get_top_n_users(dataframe, top_n):\n",
    "    result_top_users = (\n",
    "        dataframe['visitorid']\n",
    "        .value_counts()\n",
    "        .head(top_n)\n",
    "        .index\n",
    "    )\n",
    "    return result_top_users"
   ]
  },
  {
   "cell_type": "code",
   "execution_count": 4,
   "metadata": {},
   "outputs": [],
   "source": [
    "top_2000_items = get_top_n_items(dataframe=data, top_n=2000)"
   ]
  },
  {
   "cell_type": "markdown",
   "metadata": {},
   "source": [
    "### Datensatz filtern mit Top Items"
   ]
  },
  {
   "cell_type": "code",
   "execution_count": 5,
   "metadata": {},
   "outputs": [],
   "source": [
    "data = data[data['itemid'].isin(top_2000_items)]"
   ]
  },
  {
   "cell_type": "markdown",
   "metadata": {},
   "source": [
    "Kontrolle ob das filtern funktioniert hat"
   ]
  },
  {
   "cell_type": "code",
   "execution_count": 6,
   "metadata": {},
   "outputs": [
    {
     "data": {
      "text/plain": [
       "2000"
      ]
     },
     "execution_count": 6,
     "metadata": {},
     "output_type": "execute_result"
    }
   ],
   "source": [
    "data['itemid'].nunique()"
   ]
  },
  {
   "cell_type": "markdown",
   "metadata": {},
   "source": [
    "Schauen wie viele Interaktionen die User haben"
   ]
  },
  {
   "cell_type": "code",
   "execution_count": 7,
   "metadata": {},
   "outputs": [
    {
     "name": "stdout",
     "output_type": "stream",
     "text": [
      "Number of users with exactly 1 interactions: 233929\n",
      "Number of users with exactly 2 interactions: 47928\n",
      "Number of users with exactly 3 interactions: 17927\n",
      "Number of users with exactly 4 interactions: 8493\n",
      "Number of users with exactly 5 interactions: 4687\n",
      "Number of users with exactly 6 interactions: 2939\n",
      "Number of users with exactly 7 interactions: 1881\n",
      "Number of users with exactly 8 interactions: 1222\n",
      "Number of users with exactly 9 interactions: 906\n",
      "Number of users with exactly 10 interactions: 668\n",
      "Number of users with exactly 11 interactions: 472\n",
      "Number of users with exactly 12 interactions: 372\n",
      "Number of users with exactly 13 interactions: 306\n",
      "Number of users with exactly 14 interactions: 237\n",
      "Number of users with exactly 15 interactions: 213\n",
      "Number of users with exactly 16 interactions: 167\n",
      "Number of users with exactly 17 interactions: 120\n",
      "Number of users with exactly 18 interactions: 119\n",
      "Number of users with exactly 19 interactions: 93\n",
      "Number of users with exactly 20 interactions: 79\n",
      "Number of users with exactly 21 interactions: 67\n",
      "Number of users with exactly 22 interactions: 47\n",
      "Number of users with exactly 23 interactions: 50\n",
      "Number of users with exactly 24 interactions: 59\n",
      "Number of users with exactly 25 interactions: 48\n",
      "Number of users with exactly 26 interactions: 45\n",
      "Number of users with exactly 27 interactions: 24\n",
      "Number of users with exactly 28 interactions: 34\n",
      "Number of users with exactly 29 interactions: 35\n",
      "Number of users with exactly 30 interactions: 28\n",
      "Number of users with exactly 31 interactions: 18\n",
      "Number of users with exactly 32 interactions: 14\n",
      "Number of users with exactly 33 interactions: 20\n",
      "Number of users with exactly 34 interactions: 21\n",
      "Number of users with exactly 35 interactions: 12\n",
      "Number of users with exactly 36 interactions: 18\n",
      "Number of users with exactly 37 interactions: 14\n",
      "Number of users with exactly 38 interactions: 11\n",
      "Number of users with exactly 39 interactions: 10\n",
      "Number of users with exactly 40 interactions: 8\n",
      "Number of users with exactly 41 interactions: 7\n",
      "Number of users with exactly 42 interactions: 10\n",
      "Number of users with exactly 43 interactions: 8\n",
      "Number of users with exactly 44 interactions: 9\n",
      "Number of users with exactly 45 interactions: 7\n",
      "Number of users with exactly 46 interactions: 4\n",
      "Number of users with exactly 47 interactions: 3\n",
      "Number of users with exactly 48 interactions: 8\n",
      "Number of users with exactly 49 interactions: 6\n",
      "Number of users with exactly 50 interactions: 7\n",
      "Number of users with exactly 51 interactions: 5\n",
      "Number of users with exactly 52 interactions: 9\n",
      "Number of users with exactly 53 interactions: 7\n",
      "Number of users with exactly 54 interactions: 2\n",
      "Number of users with exactly 55 interactions: 7\n",
      "Number of users with exactly 56 interactions: 4\n",
      "Number of users with exactly 57 interactions: 4\n",
      "Number of users with exactly 58 interactions: 5\n",
      "Number of users with exactly 59 interactions: 4\n",
      "Number of users with exactly 60 interactions: 0\n",
      "Number of users with exactly 61 interactions: 4\n",
      "Number of users with exactly 62 interactions: 3\n",
      "Number of users with exactly 63 interactions: 2\n",
      "Number of users with exactly 64 interactions: 1\n",
      "Number of users with exactly 65 interactions: 2\n",
      "Number of users with exactly 66 interactions: 1\n",
      "Number of users with exactly 67 interactions: 1\n",
      "Number of users with exactly 68 interactions: 5\n",
      "Number of users with exactly 69 interactions: 2\n",
      "Number of users in total: 323633\n"
     ]
    }
   ],
   "source": [
    "interaction_counts_user = data['visitorid'].value_counts()\n",
    "\n",
    "for i in range(1,70):\n",
    "    num_users_equal_n = (interaction_counts_user == i).sum()\n",
    "    print(\"Number of users with exactly\", i, \"interactions:\", num_users_equal_n)\n",
    "print(\"Number of users in total:\", data['visitorid'].nunique())"
   ]
  },
  {
   "cell_type": "markdown",
   "metadata": {},
   "source": [
    "Schauen wie viel Interaktionen die Items haben"
   ]
  },
  {
   "cell_type": "code",
   "execution_count": 8,
   "metadata": {},
   "outputs": [
    {
     "name": "stdout",
     "output_type": "stream",
     "text": [
      "Number of items with exactly 1 interactions: 0\n",
      "Number of items with exactly 2 interactions: 0\n",
      "Number of items with exactly 3 interactions: 0\n",
      "Number of items with exactly 4 interactions: 0\n",
      "Number of items with exactly 5 interactions: 0\n",
      "Number of items with exactly 6 interactions: 0\n",
      "Number of items with exactly 7 interactions: 0\n",
      "Number of items with exactly 8 interactions: 0\n",
      "Number of items with exactly 9 interactions: 0\n",
      "Number of items with exactly 10 interactions: 0\n",
      "Number of items with exactly 11 interactions: 0\n",
      "Number of items with exactly 12 interactions: 0\n",
      "Number of items with exactly 13 interactions: 0\n",
      "Number of items with exactly 14 interactions: 0\n",
      "Number of items with exactly 15 interactions: 0\n",
      "Number of items with exactly 16 interactions: 0\n",
      "Number of items with exactly 17 interactions: 0\n",
      "Number of items with exactly 18 interactions: 0\n",
      "Number of items with exactly 19 interactions: 0\n",
      "Number of items with exactly 20 interactions: 0\n",
      "Number of items with exactly 21 interactions: 0\n",
      "Number of items with exactly 22 interactions: 0\n",
      "Number of items with exactly 23 interactions: 0\n",
      "Number of items with exactly 24 interactions: 0\n",
      "Number of items with exactly 25 interactions: 0\n",
      "Number of items with exactly 26 interactions: 0\n",
      "Number of items with exactly 27 interactions: 0\n",
      "Number of items with exactly 28 interactions: 0\n",
      "Number of items with exactly 29 interactions: 0\n",
      "Number of items with exactly 30 interactions: 0\n",
      "Number of items with exactly 31 interactions: 0\n",
      "Number of items with exactly 32 interactions: 0\n",
      "Number of items with exactly 33 interactions: 0\n",
      "Number of items with exactly 34 interactions: 0\n",
      "Number of items with exactly 35 interactions: 0\n",
      "Number of items with exactly 36 interactions: 0\n",
      "Number of items with exactly 37 interactions: 0\n",
      "Number of items with exactly 38 interactions: 0\n",
      "Number of items with exactly 39 interactions: 0\n",
      "Number of items with exactly 40 interactions: 0\n",
      "Number of items with exactly 41 interactions: 0\n",
      "Number of items with exactly 42 interactions: 0\n",
      "Number of items with exactly 43 interactions: 0\n",
      "Number of items with exactly 44 interactions: 0\n",
      "Number of items with exactly 45 interactions: 0\n",
      "Number of items with exactly 46 interactions: 0\n",
      "Number of items with exactly 47 interactions: 0\n",
      "Number of items with exactly 48 interactions: 0\n",
      "Number of items with exactly 49 interactions: 0\n",
      "Number of items with exactly 50 interactions: 0\n",
      "Number of items with exactly 51 interactions: 0\n",
      "Number of items with exactly 52 interactions: 0\n",
      "Number of items with exactly 53 interactions: 0\n",
      "Number of items with exactly 54 interactions: 0\n",
      "Number of items with exactly 55 interactions: 0\n",
      "Number of items with exactly 56 interactions: 0\n",
      "Number of items with exactly 57 interactions: 0\n",
      "Number of items with exactly 58 interactions: 0\n",
      "Number of items with exactly 59 interactions: 0\n",
      "Number of items with exactly 60 interactions: 0\n",
      "Number of items with exactly 61 interactions: 0\n",
      "Number of items with exactly 62 interactions: 0\n",
      "Number of items with exactly 63 interactions: 0\n",
      "Number of items with exactly 64 interactions: 0\n",
      "Number of items with exactly 65 interactions: 0\n",
      "Number of items with exactly 66 interactions: 0\n",
      "Number of items with exactly 67 interactions: 0\n",
      "Number of items with exactly 68 interactions: 0\n",
      "Number of items with exactly 69 interactions: 0\n",
      "Number of items in total: 2000\n"
     ]
    }
   ],
   "source": [
    "interaction_counts_items = data['itemid'].value_counts()\n",
    "\n",
    "for i in range(1,70):\n",
    "    num_items_equal_n = (interaction_counts_items == i).sum()\n",
    "    print(\"Number of items with exactly\", i, \"interactions:\", num_items_equal_n)\n",
    "print(\"Number of items in total:\", data['itemid'].nunique())"
   ]
  },
  {
   "cell_type": "markdown",
   "metadata": {},
   "source": [
    "Datensatz Nutzer mit weniger als n Interaktionen herausfiltern"
   ]
  },
  {
   "cell_type": "code",
   "execution_count": 9,
   "metadata": {},
   "outputs": [],
   "source": [
    "filter_n_users = 20\n",
    "users_to_keep = interaction_counts_user[interaction_counts_user >= filter_n_users].index\n",
    "data = data[data['visitorid'].isin(users_to_keep)].copy()"
   ]
  },
  {
   "cell_type": "markdown",
   "metadata": {},
   "source": [
    "Gefilterten Datensatz kontrollieren"
   ]
  },
  {
   "cell_type": "code",
   "execution_count": null,
   "metadata": {},
   "outputs": [
    {
     "name": "stdout",
     "output_type": "stream",
     "text": [
      "(54850, 5)\n",
      "954\n",
      "1768\n"
     ]
    }
   ],
   "source": [
    "print(data.shape)\n",
    "print(data.visitorid.nunique())\n",
    "print(data.itemid.nunique())"
   ]
  },
  {
   "cell_type": "markdown",
   "metadata": {},
   "source": [
    "Datensatz als csv-Datei speichern"
   ]
  },
  {
   "cell_type": "code",
   "execution_count": null,
   "metadata": {},
   "outputs": [],
   "source": [
    "data.to_csv(\"events_filtered.csv\", index=False)"
   ]
  }
 ],
 "metadata": {
  "kernelspec": {
   "display_name": "recoxplainer",
   "language": "python",
   "name": "python3"
  },
  "language_info": {
   "codemirror_mode": {
    "name": "ipython",
    "version": 3
   },
   "file_extension": ".py",
   "mimetype": "text/x-python",
   "name": "python",
   "nbconvert_exporter": "python",
   "pygments_lexer": "ipython3",
   "version": "3.6.13"
  }
 },
 "nbformat": 4,
 "nbformat_minor": 2
}
